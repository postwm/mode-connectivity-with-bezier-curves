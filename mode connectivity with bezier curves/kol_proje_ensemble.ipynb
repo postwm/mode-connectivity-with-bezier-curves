{
 "cells": [
  {
   "cell_type": "code",
   "execution_count": null,
   "id": "ecf72b71-d32c-46fe-baa9-7ad143298812",
   "metadata": {},
   "outputs": [],
   "source": []
  },
  {
   "cell_type": "code",
   "execution_count": 3,
   "id": "86f05f53-3b2e-4ad1-906e-f570f028e8d0",
   "metadata": {},
   "outputs": [
    {
     "name": "stdout",
     "output_type": "stream",
     "text": [
      "3.12.7 | packaged by conda-forge | (main, Oct  4 2024, 15:47:54) [MSC v.1941 64 bit (AMD64)]\n"
     ]
    }
   ],
   "source": [
    "import sys\n",
    "print(sys.version)\n"
   ]
  },
  {
   "cell_type": "code",
   "execution_count": 4,
   "id": "14152dc6-19dc-4d87-8ea6-db11fe471570",
   "metadata": {},
   "outputs": [],
   "source": [
    "import numpy as np"
   ]
  },
  {
   "cell_type": "code",
   "execution_count": 5,
   "id": "c06f497e-46e2-4c89-9c0d-82d620e3dafe",
   "metadata": {},
   "outputs": [],
   "source": [
    "import pandas as pd"
   ]
  },
  {
   "cell_type": "code",
   "execution_count": 6,
   "id": "f1d4595c-cf5a-498d-a6b1-96d300298b61",
   "metadata": {},
   "outputs": [],
   "source": [
    "import seaborn as sns"
   ]
  },
  {
   "cell_type": "code",
   "execution_count": 7,
   "id": "043d5b79-79e3-4734-a1c0-0d523f878aed",
   "metadata": {},
   "outputs": [],
   "source": [
    "import sklearn as sk"
   ]
  },
  {
   "cell_type": "code",
   "execution_count": 8,
   "id": "6068f174-56de-4f52-a5e9-7ca9605d8726",
   "metadata": {},
   "outputs": [],
   "source": [
    "import matplotlib.pyplot as plt\n",
    "from sklearn.preprocessing import LabelBinarizer\n",
    "import re,string,unicodedata"
   ]
  },
  {
   "cell_type": "code",
   "execution_count": 9,
   "id": "885edc57-0a6d-45b1-8562-14e8e2c8fe86",
   "metadata": {},
   "outputs": [],
   "source": [
    "from sklearn.metrics import classification_report,confusion_matrix,accuracy_score\n",
    "from sklearn.model_selection import train_test_split"
   ]
  },
  {
   "cell_type": "code",
   "execution_count": 10,
   "id": "f0229af3-6b93-4120-b781-f9269d2dd7a9",
   "metadata": {},
   "outputs": [],
   "source": [
    "import nltk\n",
    "from nltk.corpus import stopwords"
   ]
  },
  {
   "cell_type": "code",
   "execution_count": 11,
   "id": "59d32926-0cb3-4430-a2a4-c3db8cdd60f1",
   "metadata": {},
   "outputs": [],
   "source": [
    "from string import punctuation"
   ]
  },
  {
   "cell_type": "code",
   "execution_count": 12,
   "id": "abea7931-7b04-4f43-892f-6bcf9649ca74",
   "metadata": {},
   "outputs": [],
   "source": [
    "import torch\n",
    "import torch.nn as nn\n",
    "import torch.optim as optim\n",
    "import numpy as np\n",
    "import math\n",
    "import matplotlib.pyplot as plt\n",
    "from torch.utils.data import DataLoader, TensorDataset"
   ]
  },
  {
   "cell_type": "code",
   "execution_count": null,
   "id": "4f71372a-2c66-4f90-a7cc-678c101861ef",
   "metadata": {},
   "outputs": [],
   "source": []
  },
  {
   "cell_type": "code",
   "execution_count": null,
   "id": "354c7be0-9959-4394-afe0-73a1874e251b",
   "metadata": {},
   "outputs": [],
   "source": []
  },
  {
   "cell_type": "code",
   "execution_count": null,
   "id": "29c4c7fd-a924-4b3d-b08a-82d2e72f5330",
   "metadata": {},
   "outputs": [],
   "source": []
  },
  {
   "cell_type": "code",
   "execution_count": null,
   "id": "470484eb-b61e-49bf-a8b4-01587befb1a5",
   "metadata": {},
   "outputs": [],
   "source": []
  },
  {
   "cell_type": "code",
   "execution_count": null,
   "id": "0c5dc77d-ce73-46cb-b04b-02309d0f7c9c",
   "metadata": {},
   "outputs": [],
   "source": []
  },
  {
   "cell_type": "code",
   "execution_count": 13,
   "id": "875e0a25-1813-4b2e-8825-1c1eb4d646f5",
   "metadata": {},
   "outputs": [],
   "source": [
    "x_train = pd.read_csv(\"x_train.csv\")\n",
    "y_train = pd.read_csv(\"y_train.csv\")\n",
    "x_test = pd.read_csv(\"x_test.csv\")\n",
    "y_test = pd.read_csv(\"y_test.csv\")\n",
    "x_train = x_train.to_numpy(dtype=np.float16)\n",
    "y_train = y_train.to_numpy(dtype=np.float16)\n",
    "x_test = x_test.to_numpy(dtype=np.float16)\n",
    "y_test = y_test.to_numpy(dtype=np.float16)"
   ]
  },
  {
   "cell_type": "code",
   "execution_count": null,
   "id": "4210c0c0-9ca0-439f-871e-b62ca404c001",
   "metadata": {},
   "outputs": [],
   "source": []
  },
  {
   "cell_type": "code",
   "execution_count": 14,
   "id": "38912d63-34aa-4939-bedb-af6889f40e62",
   "metadata": {},
   "outputs": [],
   "source": [
    "import torch\n",
    "import torch.nn as nn\n",
    "from torch.utils.data import DataLoader, TensorDataset\n",
    "import torch.optim as optim"
   ]
  },
  {
   "cell_type": "code",
   "execution_count": null,
   "id": "57d35618-db83-4d78-a426-f13b64842cd8",
   "metadata": {},
   "outputs": [],
   "source": []
  },
  {
   "cell_type": "code",
   "execution_count": 15,
   "id": "c9c7fb6d-dcea-470a-94e7-0d0dc03865fc",
   "metadata": {},
   "outputs": [],
   "source": [
    "y_train = torch.tensor(y_train, dtype=torch.float32)\n",
    "y_test = torch.tensor(y_test, dtype=torch.float32)\n",
    "\n",
    "x_train = torch.tensor(x_train, dtype=torch.float32)\n",
    "x_test = torch.tensor(x_test, dtype=torch.float32)"
   ]
  },
  {
   "cell_type": "code",
   "execution_count": null,
   "id": "89174007-1f58-4088-93b3-5a80ad85f445",
   "metadata": {},
   "outputs": [],
   "source": []
  },
  {
   "cell_type": "code",
   "execution_count": null,
   "id": "7b57a852-d7ed-48cd-99b9-53e0dcff001c",
   "metadata": {},
   "outputs": [],
   "source": []
  },
  {
   "cell_type": "code",
   "execution_count": null,
   "id": "6aa0e0e3-931c-433f-8910-d1f9059b9e2d",
   "metadata": {},
   "outputs": [],
   "source": []
  },
  {
   "cell_type": "code",
   "execution_count": null,
   "id": "f8aed594-3420-442d-9e5e-314fc5df833e",
   "metadata": {},
   "outputs": [],
   "source": []
  },
  {
   "cell_type": "code",
   "execution_count": 16,
   "id": "b9572e39-0816-45ae-9820-6dfd36db994f",
   "metadata": {},
   "outputs": [],
   "source": [
    "layer_sizes = [1024, 512, 256, 16]"
   ]
  },
  {
   "cell_type": "code",
   "execution_count": 17,
   "id": "6e35bfd3-e6b8-4c8c-96ae-1191d85d326c",
   "metadata": {
    "scrolled": true
   },
   "outputs": [
    {
     "name": "stderr",
     "output_type": "stream",
     "text": [
      "C:\\Users\\afyil\\AppData\\Local\\Temp\\ipykernel_19116\\3271532471.py:1: FutureWarning: You are using `torch.load` with `weights_only=False` (the current default value), which uses the default pickle module implicitly. It is possible to construct malicious pickle data which will execute arbitrary code during unpickling (See https://github.com/pytorch/pytorch/blob/main/SECURITY.md#untrusted-models for more details). In a future release, the default value for `weights_only` will be flipped to `True`. This limits the functions that could be executed during unpickling. Arbitrary objects will no longer be allowed to be loaded via this mode unless they are explicitly allowlisted by the user via `torch.serialization.add_safe_globals`. We recommend you start setting `weights_only=True` for any use case where you don't have full control of the loaded file. Please open an issue on GitHub for any issues related to this experimental feature.\n",
      "  loaded_model1_params = torch.load(\"model1_params.pt\")\n",
      "C:\\Users\\afyil\\AppData\\Local\\Temp\\ipykernel_19116\\3271532471.py:2: FutureWarning: You are using `torch.load` with `weights_only=False` (the current default value), which uses the default pickle module implicitly. It is possible to construct malicious pickle data which will execute arbitrary code during unpickling (See https://github.com/pytorch/pytorch/blob/main/SECURITY.md#untrusted-models for more details). In a future release, the default value for `weights_only` will be flipped to `True`. This limits the functions that could be executed during unpickling. Arbitrary objects will no longer be allowed to be loaded via this mode unless they are explicitly allowlisted by the user via `torch.serialization.add_safe_globals`. We recommend you start setting `weights_only=True` for any use case where you don't have full control of the loaded file. Please open an issue on GitHub for any issues related to this experimental feature.\n",
      "  loaded_point1params = torch.load(\"point1params.pt\")\n",
      "C:\\Users\\afyil\\AppData\\Local\\Temp\\ipykernel_19116\\3271532471.py:4: FutureWarning: You are using `torch.load` with `weights_only=False` (the current default value), which uses the default pickle module implicitly. It is possible to construct malicious pickle data which will execute arbitrary code during unpickling (See https://github.com/pytorch/pytorch/blob/main/SECURITY.md#untrusted-models for more details). In a future release, the default value for `weights_only` will be flipped to `True`. This limits the functions that could be executed during unpickling. Arbitrary objects will no longer be allowed to be loaded via this mode unless they are explicitly allowlisted by the user via `torch.serialization.add_safe_globals`. We recommend you start setting `weights_only=True` for any use case where you don't have full control of the loaded file. Please open an issue on GitHub for any issues related to this experimental feature.\n",
      "  loaded_model2_params = torch.load(\"model2_params.pt\")\n",
      "C:\\Users\\afyil\\AppData\\Local\\Temp\\ipykernel_19116\\3271532471.py:5: FutureWarning: You are using `torch.load` with `weights_only=False` (the current default value), which uses the default pickle module implicitly. It is possible to construct malicious pickle data which will execute arbitrary code during unpickling (See https://github.com/pytorch/pytorch/blob/main/SECURITY.md#untrusted-models for more details). In a future release, the default value for `weights_only` will be flipped to `True`. This limits the functions that could be executed during unpickling. Arbitrary objects will no longer be allowed to be loaded via this mode unless they are explicitly allowlisted by the user via `torch.serialization.add_safe_globals`. We recommend you start setting `weights_only=True` for any use case where you don't have full control of the loaded file. Please open an issue on GitHub for any issues related to this experimental feature.\n",
      "  loaded_point2params = torch.load(\"point2params.pt\")\n",
      "C:\\Users\\afyil\\AppData\\Local\\Temp\\ipykernel_19116\\3271532471.py:7: FutureWarning: You are using `torch.load` with `weights_only=False` (the current default value), which uses the default pickle module implicitly. It is possible to construct malicious pickle data which will execute arbitrary code during unpickling (See https://github.com/pytorch/pytorch/blob/main/SECURITY.md#untrusted-models for more details). In a future release, the default value for `weights_only` will be flipped to `True`. This limits the functions that could be executed during unpickling. Arbitrary objects will no longer be allowed to be loaded via this mode unless they are explicitly allowlisted by the user via `torch.serialization.add_safe_globals`. We recommend you start setting `weights_only=True` for any use case where you don't have full control of the loaded file. Please open an issue on GitHub for any issues related to this experimental feature.\n",
      "  loaded_model3_params = torch.load(\"model3_params.pt\")\n",
      "C:\\Users\\afyil\\AppData\\Local\\Temp\\ipykernel_19116\\3271532471.py:8: FutureWarning: You are using `torch.load` with `weights_only=False` (the current default value), which uses the default pickle module implicitly. It is possible to construct malicious pickle data which will execute arbitrary code during unpickling (See https://github.com/pytorch/pytorch/blob/main/SECURITY.md#untrusted-models for more details). In a future release, the default value for `weights_only` will be flipped to `True`. This limits the functions that could be executed during unpickling. Arbitrary objects will no longer be allowed to be loaded via this mode unless they are explicitly allowlisted by the user via `torch.serialization.add_safe_globals`. We recommend you start setting `weights_only=True` for any use case where you don't have full control of the loaded file. Please open an issue on GitHub for any issues related to this experimental feature.\n",
      "  loaded_point3params = torch.load(\"point3params.pt\")\n",
      "C:\\Users\\afyil\\AppData\\Local\\Temp\\ipykernel_19116\\3271532471.py:10: FutureWarning: You are using `torch.load` with `weights_only=False` (the current default value), which uses the default pickle module implicitly. It is possible to construct malicious pickle data which will execute arbitrary code during unpickling (See https://github.com/pytorch/pytorch/blob/main/SECURITY.md#untrusted-models for more details). In a future release, the default value for `weights_only` will be flipped to `True`. This limits the functions that could be executed during unpickling. Arbitrary objects will no longer be allowed to be loaded via this mode unless they are explicitly allowlisted by the user via `torch.serialization.add_safe_globals`. We recommend you start setting `weights_only=True` for any use case where you don't have full control of the loaded file. Please open an issue on GitHub for any issues related to this experimental feature.\n",
      "  loaded_model4_params = torch.load(\"model4_params.pt\")\n",
      "C:\\Users\\afyil\\AppData\\Local\\Temp\\ipykernel_19116\\3271532471.py:11: FutureWarning: You are using `torch.load` with `weights_only=False` (the current default value), which uses the default pickle module implicitly. It is possible to construct malicious pickle data which will execute arbitrary code during unpickling (See https://github.com/pytorch/pytorch/blob/main/SECURITY.md#untrusted-models for more details). In a future release, the default value for `weights_only` will be flipped to `True`. This limits the functions that could be executed during unpickling. Arbitrary objects will no longer be allowed to be loaded via this mode unless they are explicitly allowlisted by the user via `torch.serialization.add_safe_globals`. We recommend you start setting `weights_only=True` for any use case where you don't have full control of the loaded file. Please open an issue on GitHub for any issues related to this experimental feature.\n",
      "  loaded_point4params = torch.load(\"point4params.pt\")\n",
      "C:\\Users\\afyil\\AppData\\Local\\Temp\\ipykernel_19116\\3271532471.py:13: FutureWarning: You are using `torch.load` with `weights_only=False` (the current default value), which uses the default pickle module implicitly. It is possible to construct malicious pickle data which will execute arbitrary code during unpickling (See https://github.com/pytorch/pytorch/blob/main/SECURITY.md#untrusted-models for more details). In a future release, the default value for `weights_only` will be flipped to `True`. This limits the functions that could be executed during unpickling. Arbitrary objects will no longer be allowed to be loaded via this mode unless they are explicitly allowlisted by the user via `torch.serialization.add_safe_globals`. We recommend you start setting `weights_only=True` for any use case where you don't have full control of the loaded file. Please open an issue on GitHub for any issues related to this experimental feature.\n",
      "  loaded_model5_params = torch.load(\"model5_params.pt\")\n"
     ]
    }
   ],
   "source": [
    "loaded_model1_params = torch.load(\"model1_params.pt\")\n",
    "loaded_point1params = torch.load(\"point1params.pt\")\n",
    "\n",
    "loaded_model2_params = torch.load(\"model2_params.pt\")\n",
    "loaded_point2params = torch.load(\"point2params.pt\")\n",
    "\n",
    "loaded_model3_params = torch.load(\"model3_params.pt\")\n",
    "loaded_point3params = torch.load(\"point3params.pt\")\n",
    "\n",
    "loaded_model4_params = torch.load(\"model4_params.pt\")\n",
    "loaded_point4params = torch.load(\"point4params.pt\")\n",
    "\n",
    "loaded_model5_params = torch.load(\"model5_params.pt\")"
   ]
  },
  {
   "cell_type": "code",
   "execution_count": 18,
   "id": "a0b7a94f-0201-4191-849a-7d24365a19b7",
   "metadata": {},
   "outputs": [
    {
     "data": {
      "text/plain": [
       "tensor([ 0.0253, -0.0568,  0.0476,  ..., -0.0166,  0.1292, -0.0517],\n",
       "       device='cuda:0')"
      ]
     },
     "execution_count": 18,
     "metadata": {},
     "output_type": "execute_result"
    }
   ],
   "source": [
    "loaded_model3_params"
   ]
  },
  {
   "cell_type": "code",
   "execution_count": null,
   "id": "60436fdf-f601-4900-bad0-f9f999b7e375",
   "metadata": {},
   "outputs": [],
   "source": []
  },
  {
   "cell_type": "code",
   "execution_count": null,
   "id": "fa8a4455-edcd-4792-a642-2386190733fd",
   "metadata": {},
   "outputs": [],
   "source": []
  },
  {
   "cell_type": "code",
   "execution_count": 19,
   "id": "b53eabb8-af90-4645-8038-5242e96cb7d5",
   "metadata": {},
   "outputs": [],
   "source": [
    "device = torch.device(\"cuda\" if torch.cuda.is_available() else \"cpu\")\n",
    "x_test = x_test.to(device)\n",
    "y_test = y_test.to(device)"
   ]
  },
  {
   "cell_type": "code",
   "execution_count": 20,
   "id": "a55852bf-9f00-436f-98a5-264716c6eba7",
   "metadata": {},
   "outputs": [],
   "source": [
    "def manual_model_forward(X, params, layer_sizes):\n",
    "    W1 = params[:layer_sizes[0] * layer_sizes[1]].reshape(layer_sizes[1], layer_sizes[0])\n",
    "    b1 = params[layer_sizes[0] * layer_sizes[1]:layer_sizes[0] * layer_sizes[1] + layer_sizes[1]]\n",
    "    \n",
    "    W2_start = layer_sizes[0] * layer_sizes[1] + layer_sizes[1]\n",
    "    W2 = params[W2_start:W2_start + layer_sizes[1] * layer_sizes[2]].reshape(layer_sizes[2], layer_sizes[1])\n",
    "    b2_start = W2_start + layer_sizes[1] * layer_sizes[2]\n",
    "    b2 = params[b2_start:b2_start + layer_sizes[2]]\n",
    "    \n",
    "    W3_start = b2_start + layer_sizes[2]\n",
    "    W3 = params[W3_start:W3_start + layer_sizes[2] * layer_sizes[3]].reshape(layer_sizes[3], layer_sizes[2])\n",
    "    b3_start = W3_start + layer_sizes[2] * layer_sizes[3]\n",
    "    b3 = params[b3_start:]\n",
    "\n",
    "\n",
    "  \n",
    "    x = torch.relu(X @ W1.T + b1)\n",
    "    x = torch.relu(x @ W2.T + b2)\n",
    "    x = torch.softmax(x @ W3.T + b3, dim=1)\n",
    "    return x"
   ]
  },
  {
   "cell_type": "code",
   "execution_count": null,
   "id": "47e852f2-612c-4bf1-97bd-3b30ab0db29d",
   "metadata": {},
   "outputs": [],
   "source": []
  },
  {
   "cell_type": "code",
   "execution_count": null,
   "id": "a52ec3b6-d8d5-4124-a179-5ab5eb88d799",
   "metadata": {},
   "outputs": [],
   "source": []
  },
  {
   "cell_type": "code",
   "execution_count": 21,
   "id": "be96eec3-50d0-47bc-a7c2-fc6088cddb37",
   "metadata": {},
   "outputs": [],
   "source": [
    "outputs_m1 = manual_model_forward(x_test, loaded_model1_params, layer_sizes)\n",
    "outputs_m2 = manual_model_forward(x_test, loaded_model2_params, layer_sizes)\n",
    "outputs_m3 = manual_model_forward(x_test, loaded_model3_params, layer_sizes)\n",
    "outputs_m4 = manual_model_forward(x_test, loaded_model4_params, layer_sizes)\n",
    "outputs_m5 = manual_model_forward(x_test, loaded_model5_params, layer_sizes)\n",
    "outputs_p1 = manual_model_forward(x_test, loaded_point1params, layer_sizes)\n",
    "outputs_p2 = manual_model_forward(x_test, loaded_point2params, layer_sizes)\n",
    "outputs_p3 = manual_model_forward(x_test, loaded_point3params, layer_sizes)\n",
    "outputs_p4 = manual_model_forward(x_test, loaded_point4params, layer_sizes)\n",
    "\n",
    "\n",
    "prd_classes_m1 = torch.argmax(outputs_m1, dim=1)\n",
    "prd_classes_m2 = torch.argmax(outputs_m2, dim=1)\n",
    "prd_classes_m3 = torch.argmax(outputs_m3, dim=1)\n",
    "prd_classes_m4 = torch.argmax(outputs_m4, dim=1)\n",
    "prd_classes_m5 = torch.argmax(outputs_m5, dim=1)\n",
    "prd_classes_p1 = torch.argmax(outputs_p1, dim=1)\n",
    "prd_classes_p2 = torch.argmax(outputs_p2, dim=1)\n",
    "prd_classes_p3 = torch.argmax(outputs_p3, dim=1)\n",
    "prd_classes_p4 = torch.argmax(outputs_p4, dim=1)"
   ]
  },
  {
   "cell_type": "code",
   "execution_count": 22,
   "id": "7bca2840-6d41-4f91-8b0e-677bc3a19bf9",
   "metadata": {},
   "outputs": [
    {
     "data": {
      "text/plain": [
       "tensor([14,  1,  7,  ...,  7,  0,  7], device='cuda:0')"
      ]
     },
     "execution_count": 22,
     "metadata": {},
     "output_type": "execute_result"
    }
   ],
   "source": [
    "prd_classes_m1"
   ]
  },
  {
   "cell_type": "code",
   "execution_count": 23,
   "id": "3d0a6602-f558-448f-a45a-9df319ac772e",
   "metadata": {},
   "outputs": [],
   "source": [
    "true_classes = torch.argmax(y_test, dim=1)"
   ]
  },
  {
   "cell_type": "code",
   "execution_count": 24,
   "id": "1fa1ce50-db99-4e97-b7bd-75be6490245f",
   "metadata": {},
   "outputs": [
    {
     "data": {
      "text/plain": [
       "tensor([14,  1, 11,  ...,  7,  0,  9], device='cuda:0')"
      ]
     },
     "execution_count": 24,
     "metadata": {},
     "output_type": "execute_result"
    }
   ],
   "source": [
    "true_classes"
   ]
  },
  {
   "cell_type": "code",
   "execution_count": 25,
   "id": "ab6acd23-8163-43bf-8de0-3632286c5312",
   "metadata": {},
   "outputs": [],
   "source": [
    "accuracy_m1 = (prd_classes_m1 == true_classes).sum().item() / true_classes.size(0)\n",
    "accuracy_m2 = (prd_classes_m2 == true_classes).sum().item() / true_classes.size(0)\n",
    "accuracy_m3 = (prd_classes_m3 == true_classes).sum().item() / true_classes.size(0)\n",
    "accuracy_m4 = (prd_classes_m4 == true_classes).sum().item() / true_classes.size(0)\n",
    "accuracy_m5 = (prd_classes_m5 == true_classes).sum().item() / true_classes.size(0)\n",
    "accuracy_p1 = (prd_classes_p1 == true_classes).sum().item() / true_classes.size(0)\n",
    "accuracy_p2 = (prd_classes_p2 == true_classes).sum().item() / true_classes.size(0)\n",
    "accuracy_p3 = (prd_classes_p3 == true_classes).sum().item() / true_classes.size(0)\n",
    "accuracy_p4 = (prd_classes_p4 == true_classes).sum().item() / true_classes.size(0)"
   ]
  },
  {
   "cell_type": "code",
   "execution_count": 26,
   "id": "6c163fa3-252b-4f87-9387-19c282f92334",
   "metadata": {},
   "outputs": [
    {
     "name": "stdout",
     "output_type": "stream",
     "text": [
      "0.5471951894928396\n",
      "0.5418150170108395\n",
      "0.5441095023340454\n",
      "0.5393622913205158\n",
      "0.5392040509533982\n",
      "0.5289975472743097\n",
      "0.5420523775615159\n",
      "0.5321623546166627\n",
      "0.5352480417754569\n"
     ]
    }
   ],
   "source": [
    "print(accuracy_m1)\n",
    "print(accuracy_m2)\n",
    "print(accuracy_m3)\n",
    "print(accuracy_m4)\n",
    "print(accuracy_m5)\n",
    "print(accuracy_p1)\n",
    "print(accuracy_p2)\n",
    "print(accuracy_p3)\n",
    "print(accuracy_p4)\n"
   ]
  },
  {
   "cell_type": "code",
   "execution_count": null,
   "id": "cfaa4fb2-b5ea-42fb-b8c7-50e9a7362746",
   "metadata": {},
   "outputs": [],
   "source": []
  },
  {
   "cell_type": "markdown",
   "id": "8872a746-cbe9-472b-83c5-6c183f285875",
   "metadata": {},
   "source": [
    "### models ensemble"
   ]
  },
  {
   "cell_type": "code",
   "execution_count": null,
   "id": "88aa6a7d-be8b-4ba3-bbf3-72745144ecd0",
   "metadata": {},
   "outputs": [],
   "source": []
  },
  {
   "cell_type": "code",
   "execution_count": 28,
   "id": "4b8a04d8-cf4d-4782-a030-283496563237",
   "metadata": {},
   "outputs": [],
   "source": [
    "\n",
    "all_predictions = [prd_classes_m1, prd_classes_m2, prd_classes_m3, prd_classes_m4, prd_classes_m5]\n",
    "\n",
    "# Tensorlar CPU'ya ve numpy formatına\n",
    "all_predictions = [pred.cpu().numpy() for pred in all_predictions]\n",
    "\n",
    "df = pd.DataFrame({f'm{i+1}': all_predictions[i] for i in range(len(all_predictions))})\n",
    "\n"
   ]
  },
  {
   "cell_type": "code",
   "execution_count": 29,
   "id": "b231e2b8-6362-4c43-8e5a-ca0e37a6b161",
   "metadata": {},
   "outputs": [
    {
     "name": "stdout",
     "output_type": "stream",
     "text": [
      "       m1  m2  m3  m4  m5  ensemble\n",
      "0      14  14  14  14  14        14\n",
      "1       1   1   1   1   1         1\n",
      "2       7   7   7   7   7         7\n",
      "3       0   0  11  11   0         0\n",
      "4       6   6   6   6   6         6\n",
      "...    ..  ..  ..  ..  ..       ...\n",
      "12634  15  15   4   4   4         4\n",
      "12635   4   4   7  11  11         4\n",
      "12636   7   7   7   7   7         7\n",
      "12637   0   0   0   0   7         0\n",
      "12638   7   7   7   9   7         7\n",
      "\n",
      "[12639 rows x 6 columns]\n"
     ]
    }
   ],
   "source": [
    "from scipy.stats import mode\n",
    "# Ensemble sonuçları (majority voting)\n",
    "ensemble_result = mode(df.values, axis=1).mode.flatten()\n",
    "\n",
    "df['ensemble'] = ensemble_result\n",
    "\n",
    "print(df)"
   ]
  },
  {
   "cell_type": "code",
   "execution_count": 30,
   "id": "e7ad2cd1-1134-40fc-9b71-0b9685b2eca8",
   "metadata": {},
   "outputs": [],
   "source": [
    "ensemble_result = df['ensemble']\n",
    "ensemble_result = torch.FloatTensor(ensemble_result).to(device)"
   ]
  },
  {
   "cell_type": "code",
   "execution_count": 31,
   "id": "09b20c0b-fe23-478c-b3e5-85dcdbb0f89d",
   "metadata": {},
   "outputs": [],
   "source": [
    "accuracy_m_ens = (ensemble_result == true_classes).sum().item() / true_classes.size(0)"
   ]
  },
  {
   "cell_type": "code",
   "execution_count": 32,
   "id": "4ca59e05-e9ff-4802-be91-1481958cf941",
   "metadata": {},
   "outputs": [
    {
     "data": {
      "text/plain": [
       "0.574254292269958"
      ]
     },
     "execution_count": 32,
     "metadata": {},
     "output_type": "execute_result"
    }
   ],
   "source": [
    "accuracy_m_ens"
   ]
  },
  {
   "cell_type": "code",
   "execution_count": null,
   "id": "be86c1a3-50c5-41dc-8457-416136e4f0cc",
   "metadata": {},
   "outputs": [],
   "source": []
  },
  {
   "cell_type": "code",
   "execution_count": null,
   "id": "f39edac0-ee5e-43d0-80f7-2c7150114b78",
   "metadata": {},
   "outputs": [],
   "source": []
  },
  {
   "cell_type": "code",
   "execution_count": null,
   "id": "ba046361-38ce-44b1-aa19-11aa30e03611",
   "metadata": {},
   "outputs": [],
   "source": []
  },
  {
   "cell_type": "markdown",
   "id": "0825b370-5626-4b3d-b677-64136f34d4ae",
   "metadata": {},
   "source": [
    "### ."
   ]
  },
  {
   "cell_type": "code",
   "execution_count": null,
   "id": "9767773a-0d0c-48ac-a5ae-0a71744e9dc4",
   "metadata": {},
   "outputs": [],
   "source": []
  },
  {
   "cell_type": "markdown",
   "id": "0180c8cf-15ed-4755-a1a4-2b500ce28769",
   "metadata": {},
   "source": [
    "### points ensemble"
   ]
  },
  {
   "cell_type": "code",
   "execution_count": 35,
   "id": "60bb3cc8-3355-448c-8333-c564d4192d6d",
   "metadata": {},
   "outputs": [],
   "source": [
    "\n",
    "all_predictions_points = [prd_classes_m1, prd_classes_p1, prd_classes_p2, prd_classes_p3, prd_classes_p4, prd_classes_m5]\n",
    "\n",
    "# Tensorlar CPU'ya ve numpy formatına\n",
    "all_predictions_points = [pred.cpu().numpy() for pred in all_predictions_points]\n",
    "\n",
    "df_points = pd.DataFrame({f'm{i+1}': all_predictions_points[i] for i in range(len(all_predictions_points))})\n",
    "\n"
   ]
  },
  {
   "cell_type": "code",
   "execution_count": 36,
   "id": "e94fc149-a6d8-43ec-afee-75cc1ba5bd4a",
   "metadata": {},
   "outputs": [
    {
     "name": "stdout",
     "output_type": "stream",
     "text": [
      "       m1  m2  m3  m4  m5  m6  ensemble\n",
      "0      14   4  14  14  14  14        14\n",
      "1       1   1   1   1   1   1         1\n",
      "2       7   7   7   7   7   7         7\n",
      "3       0   0   0   0  11   0         0\n",
      "4       6   6   6   6   6   6         6\n",
      "...    ..  ..  ..  ..  ..  ..       ...\n",
      "12634  15   4   4   4   4   4         4\n",
      "12635   4   4   4   7   4  11         4\n",
      "12636   7  12   6  12   7   7         7\n",
      "12637   0   0   0   0   7   7         0\n",
      "12638   7   7   7   7   7   7         7\n",
      "\n",
      "[12639 rows x 7 columns]\n"
     ]
    }
   ],
   "source": [
    "from scipy.stats import mode\n",
    "# Ensemble sonuçları (majority voting)\n",
    "ensemble_result_points = mode(df_points.values, axis=1).mode.flatten()\n",
    "\n",
    "df_points['ensemble'] = ensemble_result_points\n",
    "\n",
    "print(df_points)"
   ]
  },
  {
   "cell_type": "code",
   "execution_count": 37,
   "id": "f406931c-ba65-463d-acd1-a17e8b7aefad",
   "metadata": {},
   "outputs": [],
   "source": [
    "ensemble_result_points = df_points['ensemble']\n",
    "ensemble_result_points = torch.FloatTensor(ensemble_result_points).to(device)"
   ]
  },
  {
   "cell_type": "code",
   "execution_count": 38,
   "id": "21bd50ec-4a8c-4d3e-a580-b16d002e72be",
   "metadata": {},
   "outputs": [],
   "source": [
    "accuracy_p_ens = (ensemble_result_points == true_classes).sum().item() / true_classes.size(0)"
   ]
  },
  {
   "cell_type": "code",
   "execution_count": 39,
   "id": "b50d1619-5ad0-4b77-a84a-99c0cf4b7aa6",
   "metadata": {},
   "outputs": [
    {
     "data": {
      "text/plain": [
       "0.5618324234512224"
      ]
     },
     "execution_count": 39,
     "metadata": {},
     "output_type": "execute_result"
    }
   ],
   "source": [
    "accuracy_p_ens"
   ]
  },
  {
   "cell_type": "code",
   "execution_count": null,
   "id": "a4471856-ce74-4882-a2e7-8d483f25e2f4",
   "metadata": {},
   "outputs": [],
   "source": []
  },
  {
   "cell_type": "code",
   "execution_count": null,
   "id": "081d8908-9f4a-43b5-b9ea-99385ef1143c",
   "metadata": {},
   "outputs": [],
   "source": []
  },
  {
   "cell_type": "code",
   "execution_count": null,
   "id": "9b8f91c2-cff7-4b42-9503-46f0ad2f9211",
   "metadata": {},
   "outputs": [],
   "source": []
  },
  {
   "cell_type": "markdown",
   "id": "bd963007-f7f7-4fb7-8051-d39f59f5e7b5",
   "metadata": {},
   "source": [
    "### models-points-ensemble acc comparising"
   ]
  },
  {
   "cell_type": "code",
   "execution_count": 103,
   "id": "a8e68b47-fa69-4515-9f5b-cbd8547cdf70",
   "metadata": {},
   "outputs": [
    {
     "data": {
      "image/png": "[encoded data removed]",
      "text/plain": [
       "<Figure size 1000x600 with 1 Axes>"
      ]
     },
     "metadata": {},
     "output_type": "display_data"
    }
   ],
   "source": [
    "\n",
    "accuracies = {\n",
    "    \"acc_m1\": accuracy_m1,\n",
    "    \"acc_m2\": accuracy_m2,\n",
    "    \"acc_m3\": accuracy_m3,\n",
    "    \"acc_m4\": accuracy_m4,\n",
    "    \"acc_m5\": accuracy_m5,\n",
    "    \"acc_p1\": accuracy_p1,\n",
    "    \"acc_p2\": accuracy_p2,\n",
    "    \"acc_p3\": accuracy_p3,\n",
    "    \"acc_p4\": accuracy_p4,\n",
    "    \"acc_m_ens\": accuracy_m_ens,\n",
    "    \"acc_p_ens\": accuracy_p_ens\n",
    "}\n",
    "\n",
    "plt.figure(figsize=(10, 6))\n",
    "\n",
    "# Define colors: first 5 bars (soft blue), last 4 bars (soft green)\n",
    "colors = ['#FF9999'] * 5 + ['#A3C29B'] * 4 + ['#B0E0E6'] * 2\n",
    "\n",
    "plt.bar(accuracies.keys(), accuracies.values(), color=colors, width=0.5)\n",
    "plt.xlabel(\"Accuracy Types\")\n",
    "plt.ylabel(\"Accuracy Values\")\n",
    "plt.title(\"Accuracy Comparison of Models\")\n",
    "plt.ylim(0.4, 0.70)  # Focus on the accuracy range for sensitivity\n",
    "plt.xticks(rotation=45)\n",
    "plt.tight_layout()\n",
    "plt.show()\n"
   ]
  },
  {
   "cell_type": "code",
   "execution_count": null,
   "id": "45bc420d-471f-4da5-89d2-e66a571c558b",
   "metadata": {},
   "outputs": [],
   "source": []
  },
  {
   "cell_type": "code",
   "execution_count": null,
   "id": "d3bc22b5-4f78-47c7-a5de-cf4e02d677e1",
   "metadata": {},
   "outputs": [],
   "source": []
  },
  {
   "cell_type": "code",
   "execution_count": null,
   "id": "92af9a4e-f6bc-4605-976e-095a98831ae3",
   "metadata": {},
   "outputs": [],
   "source": []
  }
 ],
 "metadata": {
  "kernelspec": {
   "display_name": "Python (odev2_sent)",
   "language": "python",
   "name": "odev2_sent"
  },
  "language_info": {
   "codemirror_mode": {
    "name": "ipython",
    "version": 3
   },
   "file_extension": ".py",
   "mimetype": "text/x-python",
   "name": "python",
   "nbconvert_exporter": "python",
   "pygments_lexer": "ipython3",
   "version": "3.12.7"
  }
 },
 "nbformat": 4,
 "nbformat_minor": 5
}
